{
  "nbformat": 4,
  "nbformat_minor": 0,
  "metadata": {
    "colab": {
      "provenance": [],
      "authorship_tag": "ABX9TyOwH2D5qUy22+EHoHCGkPzi",
      "include_colab_link": true
    },
    "kernelspec": {
      "name": "python3",
      "display_name": "Python 3"
    },
    "language_info": {
      "name": "python"
    }
  },
  "cells": [
    {
      "cell_type": "markdown",
      "metadata": {
        "id": "view-in-github",
        "colab_type": "text"
      },
      "source": [
        "<a href=\"https://colab.research.google.com/github/IlhamIndraAtmaja/Matkul-Pengolahan-Citra/blob/main/Untitled2.ipynb\" target=\"_parent\"><img src=\"https://colab.research.google.com/assets/colab-badge.svg\" alt=\"Open In Colab\"/></a>"
      ]
    },
    {
      "cell_type": "markdown",
      "source": [
        "# Jobsheet 1. Dasar Berkas Gambar (Citra)"
      ],
      "metadata": {
        "id": "6TydIzjIxUtr"
      }
    },
    {
      "cell_type": "markdown",
      "source": [
        "## Pratikum 01. mendefinisikan Istilah bit, byte, kilobyte, megabyte dll pada citra"
      ],
      "metadata": {
        "id": "BdRGCd7Rxx4a"
      }
    },
    {
      "cell_type": "code",
      "execution_count": null,
      "metadata": {
        "id": "z857DnxlwISE"
      },
      "outputs": [],
      "source": []
    }
  ]
}